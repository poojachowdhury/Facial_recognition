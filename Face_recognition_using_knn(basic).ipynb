{
 "cells": [
  {
   "cell_type": "code",
   "execution_count": null,
   "metadata": {},
   "outputs": [],
   "source": [
    "import numpy as np\n",
    "from scipy.stats import mode\n",
    "import sys\n",
    "%matplotlib notebook\n",
    "import matplotlib\n",
    "import matplotlib.pyplot as plt\n",
    "from scipy.io import loadmat\n",
    "import time\n",
    "from helper import *"
   ]
  },
  {
   "cell_type": "code",
   "execution_count": 5,
   "metadata": {},
   "outputs": [],
   "source": [
    "def innerproduct(X,Z=None):\n",
    "    \n",
    "    # Computes the inner-product matrix.\n",
    "    # Input:\n",
    "    # X: nxd data matrix with n vectors (rows) of dimensionality d\n",
    "    # Z: mxd data matrix with m vectors (rows) of dimensionality d\n",
    "    #\n",
    "    # Output:\n",
    "    # Matrix G of size nxm\n",
    "    # G[i,j] is the inner-product between vectors X[i,:] and Z[j,:]\n",
    "    \n",
    "    if Z is None: # case when there is only one input (X)\n",
    "        Z=X;\n",
    "    G = np.dot(X,(Z.T))\n",
    "    return G    "
   ]
  },
  {
   "cell_type": "code",
   "execution_count": 6,
   "metadata": {},
   "outputs": [],
   "source": [
    "def l2distance(X,Z=None):\n",
    "    \n",
    "    # Computes the Euclidean distance matrix.\n",
    "    # Input:\n",
    "    # X: nxd data matrix with n vectors (rows) of dimensionality d\n",
    "    # Z: mxd data matrix with m vectors (rows) of dimensionality d\n",
    "    #\n",
    "    # Output:\n",
    "    # Matrix D of size nxm\n",
    "    # D(i,j) is the Euclidean distance of X(i,:) and Z(j,:)\n",
    "    \n",
    "    \n",
    "    if Z is None:\n",
    "        Z=X;\n",
    "\n",
    "    n,d1=X.shape\n",
    "    m,d2=Z.shape\n",
    "    if (d1==d2):\n",
    "#   \"Dimensions of input vectors must match!\"\n",
    "        G = innerproduct(X,Z)        \n",
    "#         Using broadcasting method to calculate D where shapes are incompatible\n",
    "\n",
    "        D = np.sum(np.square(X)[:,np.newaxis,:], axis=2) - 2*G + np.sum(np.square(Z), axis=1)\n",
    "        D = D.clip(min=0)\n",
    "        D_dist = np.sqrt(D)\n",
    "        \n",
    "    return D_dist\n"
   ]
  },
  {
   "cell_type": "code",
   "execution_count": null,
   "metadata": {},
   "outputs": [],
   "source": [
    "xTr,yTr,xTe,yTe=loaddata(\"faces.mat\")\n",
    "\n",
    "plt.figure(figsize=(11,8))\n",
    "plotfaces(xTr[:9, :])"
   ]
  },
  {
   "cell_type": "code",
   "execution_count": 13,
   "metadata": {},
   "outputs": [],
   "source": [
    "def findknn(xTr,xTe,k):\n",
    "    \"\"\"\n",
    "    function [indices,dists]=findknn(xTr,xTe,k);\n",
    "    \n",
    "    Finds the k nearest neighbors of xTe in xTr.\n",
    "    \n",
    "    Input:\n",
    "    xTr = nxd input matrix with n row-vectors of dimensionality d\n",
    "    xTe = mxd input matrix with m row-vectors of dimensionality d\n",
    "    k = number of nearest neighbors to be found\n",
    "    \n",
    "    Output:\n",
    "    indices = kxm matrix, where indices(i,j) is the i^th nearest neighbor of xTe(j,:)\n",
    "    dists = Euclidean distances to the respective nearest neighbors\n",
    "    \n",
    "    \"\"\"\n",
    "    E_dist = l2distance(xTr,xTe)    \n",
    "    dists = np.sort(E_dist,0)[0:k]    \n",
    "    indices = np.argsort(E_dist,0)[0:k]\n",
    "    return indices,dists"
   ]
  },
  {
   "cell_type": "code",
   "execution_count": 14,
   "metadata": {},
   "outputs": [],
   "source": [
    "def accuracy(truth,preds):\n",
    "    \"\"\"\n",
    "    function output=accuracy(truth,preds)         \n",
    "    Analyzes the accuracy of a prediction against the ground truth\n",
    "    \n",
    "    Input:\n",
    "    truth = n-dimensional vector of true class labels\n",
    "    preds = n-dimensional vector of predictions\n",
    "    \n",
    "    Output:\n",
    "    accuracy = scalar (percent of predictions that are correct)\n",
    "    \"\"\"\n",
    "    \n",
    "    truth = truth.flatten()\n",
    "    preds = preds.flatten()\n",
    "    count=0\n",
    "    for i in range(len(truth)): \n",
    "        if truth[i]!=preds[i]:\n",
    "            count+=1\n",
    "    return np.abs(1 - (count/len(truth)))"
   ]
  },
  {
   "cell_type": "code",
   "execution_count": 2,
   "metadata": {},
   "outputs": [],
   "source": [
    "def knnclassifier(xTr,yTr,xTe,k):\n",
    "    \"\"\"\n",
    "    function preds=knnclassifier(xTr,yTr,xTe,k);\n",
    "    \n",
    "    k-nn classifier \n",
    "    \n",
    "    Input:\n",
    "    xTr = nxd input matrix with n row-vectors of dimensionality d\n",
    "    xTe = mxd input matrix with m row-vectors of dimensionality d\n",
    "    k = number of nearest neighbors to be found\n",
    "    \n",
    "    Output:\n",
    "    \n",
    "    preds = predicted labels, ie preds(i) is the predicted label of xTe(i,:)\n",
    "    \"\"\"\n",
    "    # fix array shapes\n",
    "    yTr = yTr.flatten()\n",
    "    our_labels=[]\n",
    "    indices,dists = findknn(xTr,xTe,k)\n",
    "    for i in indices:\n",
    "        our_labels.append(yTr[i])\n",
    "    our_labels = np.array(our_labels)\n",
    "    print(our_labels)\n",
    "    \n",
    "    from collections import defaultdict\n",
    "    d=defaultdict(int)\n",
    "    for l in our_labels:\n",
    "        d[tuple(l)] += 1\n",
    "    preds = np.array(list(max(d)))\n",
    "    return preds"
   ]
  },
  {
   "cell_type": "code",
   "execution_count": null,
   "metadata": {},
   "outputs": [],
   "source": [
    "print(\"Face Recognition: (1-nn)\")\n",
    "xTr,yTr,xTe,yTe=loaddata(\"faces.mat\") # load the data\n",
    "t0 = time.time()\n",
    "preds = knnclassifier(xTr,yTr,xTe,1)\n",
    "result=accuracy(yTe,preds)\n",
    "t1 = time.time()\n",
    "print(\"You obtained %.2f%% classification acccuracy in %.4f seconds\\n\" % (result*100.0,t1-t0))"
   ]
  }
 ],
 "metadata": {
  "kernelspec": {
   "display_name": "Python 3",
   "language": "python",
   "name": "python3"
  },
  "language_info": {
   "codemirror_mode": {
    "name": "ipython",
    "version": 3
   },
   "file_extension": ".py",
   "mimetype": "text/x-python",
   "name": "python",
   "nbconvert_exporter": "python",
   "pygments_lexer": "ipython3",
   "version": "3.7.4"
  }
 },
 "nbformat": 4,
 "nbformat_minor": 4
}
